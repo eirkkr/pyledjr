{
 "cells": [
  {
   "cell_type": "markdown",
   "metadata": {},
   "source": [
    "***\n",
    "**Web Scrape**\n",
    "***\n",
    "Scrape bank accounts"
   ]
  },
  {
   "cell_type": "markdown",
   "metadata": {},
   "source": [
    "# Setup"
   ]
  },
  {
   "cell_type": "code",
   "execution_count": 18,
   "metadata": {},
   "outputs": [],
   "source": [
    "import sys\n",
    "sys.path.append('..')\n",
    "from splinter import Browser\n",
    "import credentials"
   ]
  },
  {
   "cell_type": "code",
   "execution_count": 19,
   "metadata": {},
   "outputs": [],
   "source": [
    "# bank urls\n",
    "url = 'https://www.anz.com/INETBANK/bankmain.asp'"
   ]
  },
  {
   "cell_type": "code",
   "execution_count": 20,
   "metadata": {},
   "outputs": [],
   "source": [
    "# Download ANZ transaction data (this block will need to change for each bank)\n",
    "with Browser('chrome') as browser:\n",
    "\n",
    "    browser.visit(url) # Visit website\n",
    "    \n",
    "    with browser.get_iframe('main') as iframe: # Within the login iFrame...\n",
    "        \n",
    "        iframe.fill('CorporateSignonCorpId', credentials.anz.username) # Enter uername\n",
    "        iframe.fill('CorporateSignonPassword', credentials.anz.password) # Enter password\n",
    "        iframe.find_by_id('SignonButton').click() # Click 'Log In'\n",
    "        \n",
    "    browser.screenshot('C:/data/')"
   ]
  },
  {
   "cell_type": "code",
   "execution_count": null,
   "metadata": {},
   "outputs": [],
   "source": []
  }
 ],
 "metadata": {
  "kernelspec": {
   "display_name": "Python 3",
   "language": "python",
   "name": "python3"
  },
  "language_info": {
   "codemirror_mode": {
    "name": "ipython",
    "version": 3
   },
   "file_extension": ".py",
   "mimetype": "text/x-python",
   "name": "python",
   "nbconvert_exporter": "python",
   "pygments_lexer": "ipython3",
   "version": "3.7.1"
  }
 },
 "nbformat": 4,
 "nbformat_minor": 2
}
